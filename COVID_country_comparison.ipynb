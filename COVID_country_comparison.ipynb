{
 "cells": [
  {
   "cell_type": "code",
   "execution_count": 14,
   "metadata": {},
   "outputs": [],
   "source": [
    "import requests\n",
    "import pandas as pd\n",
    "import numpy as np\n",
    "import matplotlib.pyplot as plt\n"
   ]
  },
  {
   "cell_type": "code",
   "execution_count": 2,
   "metadata": {},
   "outputs": [],
   "source": [
    "# get covid data \n",
    "\n",
    "URL = \"https://api.covid19api.com/summary\"\n",
    "\n",
    "try:\n",
    "    r = requests.get(URL)\n",
    "    res = r.json()\n",
    "except:\n",
    "    print(\"API failed to connect\")"
   ]
  },
  {
   "cell_type": "code",
   "execution_count": 3,
   "metadata": {},
   "outputs": [],
   "source": [
    "# organize relevant data\n",
    "\n",
    "global_new = res[\"Global\"][\"NewConfirmed\"]\n",
    "country_data = res[\"Countries\"]\n",
    "\n",
    "country_names = [i[\"Country\"] for i in country_data]\n",
    "\n",
    "country_new_cases = [int(round(100 * country_data[i][\"NewConfirmed\"] / global_new, 0)) for i in range(len(country_data))]"
   ]
  },
  {
   "cell_type": "code",
   "execution_count": 70,
   "metadata": {},
   "outputs": [
    {
     "name": "stdout",
     "output_type": "stream",
     "text": [
      "Brazil\n",
      "India\n",
      "United States of America\n"
     ]
    }
   ],
   "source": [
    "# make dataframe\n",
    "\n",
    "df = pd.DataFrame({\"Country\": country_names, \"Case_count\": country_new_cases})\n",
    "\n",
    "\n",
    "# which countries are doing poorly?\n",
    "\n",
    "for i in range(len(df)):\n",
    "    if df.loc[i][\"Case_count\"] > 10:\n",
    "        print(df.loc[i][\"Country\"])\n"
   ]
  },
  {
   "cell_type": "code",
   "execution_count": 106,
   "metadata": {
    "scrolled": true
   },
   "outputs": [
    {
     "data": {
      "text/html": [
       "<div>\n",
       "<style scoped>\n",
       "    .dataframe tbody tr th:only-of-type {\n",
       "        vertical-align: middle;\n",
       "    }\n",
       "\n",
       "    .dataframe tbody tr th {\n",
       "        vertical-align: top;\n",
       "    }\n",
       "\n",
       "    .dataframe thead th {\n",
       "        text-align: right;\n",
       "    }\n",
       "</style>\n",
       "<table border=\"1\" class=\"dataframe\">\n",
       "  <thead>\n",
       "    <tr style=\"text-align: right;\">\n",
       "      <th></th>\n",
       "      <th>Count</th>\n",
       "    </tr>\n",
       "  </thead>\n",
       "  <tbody>\n",
       "    <tr>\n",
       "      <th>0</th>\n",
       "      <td>163</td>\n",
       "    </tr>\n",
       "    <tr>\n",
       "      <th>1</th>\n",
       "      <td>15</td>\n",
       "    </tr>\n",
       "    <tr>\n",
       "      <th>2</th>\n",
       "      <td>5</td>\n",
       "    </tr>\n",
       "    <tr>\n",
       "      <th>3</th>\n",
       "      <td>2</td>\n",
       "    </tr>\n",
       "    <tr>\n",
       "      <th>4</th>\n",
       "      <td>0</td>\n",
       "    </tr>\n",
       "  </tbody>\n",
       "</table>\n",
       "</div>"
      ],
      "text/plain": [
       "   Count\n",
       "0    163\n",
       "1     15\n",
       "2      5\n",
       "3      2\n",
       "4      0"
      ]
     },
     "execution_count": 106,
     "metadata": {},
     "output_type": "execute_result"
    }
   ],
   "source": [
    "upper = 0\n",
    "for i in range(len(country_new_cases)):\n",
    "    if country_new_cases.count(i) > 0:\n",
    "        upper = i\n",
    "\n",
    "case_dist = {i:(country_new_cases.count(i) if country_new_cases.count(i) > 0 else 0) for i in range(upper + 1)}\n",
    "df_2 = pd.DataFrame({\"Count\": case_dist})\n",
    "df_2.head()"
   ]
  },
  {
   "cell_type": "code",
   "execution_count": 111,
   "metadata": {},
   "outputs": [
    {
     "data": {
      "image/png": "[encoded data removed]",
      "text/plain": [
       "<Figure size 432x288 with 1 Axes>"
      ]
     },
     "metadata": {
      "needs_background": "light"
     },
     "output_type": "display_data"
    }
   ],
   "source": [
    "x_vals = np.arange(df_2[\"Count\"].keys().max() + 1)\n",
    "fig = plt.figure()\n",
    "ax = fig.add_axes([0,0,1,1])\n",
    "ax.bar(x_vals, df_2[\"Count\"])\n",
    "plt.xlabel(\"Percentage of global cases\")\n",
    "plt.ylabel(\"Number of countries\")\n",
    "plt.title(\"Are a few countries contributing more to global COVID numbers than most?\")\n",
    "plt.show()"
   ]
  },
  {
   "cell_type": "markdown",
   "metadata": {},
   "source": [
    "Brazil is at 12%, the US is at 15%, and India is at 33% of all global cases reported on 9/20/20 for a combined 60% of the total global cases. So yeah, a few countries are contributing disproportionately to the COVID numbers."
   ]
  },
  {
   "cell_type": "code",
   "execution_count": null,
   "metadata": {},
   "outputs": [],
   "source": []
  }
 ],
 "metadata": {
  "kernelspec": {
   "display_name": "Python 3",
   "language": "python",
   "name": "python3"
  },
  "language_info": {
   "codemirror_mode": {
    "name": "ipython",
    "version": 3
   },
   "file_extension": ".py",
   "mimetype": "text/x-python",
   "name": "python",
   "nbconvert_exporter": "python",
   "pygments_lexer": "ipython3",
   "version": "3.8.3"
  }
 },
 "nbformat": 4,
 "nbformat_minor": 4
}
